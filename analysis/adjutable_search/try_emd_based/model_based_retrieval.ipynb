{
 "cells": [
  {
   "cell_type": "code",
   "execution_count": 1,
   "metadata": {},
   "outputs": [],
   "source": [
    "from FlagEmbedding import BGEM3FlagModel\n",
    "import json\n",
    "from tqdm.autonotebook import tqdm\n",
    "import numpy as np\n",
    "import os\n",
    "from transformers import AutoTokenizer, AutoModel\n",
    "import sys\n",
    "sys.path.append('src/')\n",
    "import cobert\n",
    "\n",
    "%load_ext autoreload\n",
    "%autoreload 2\n",
    "\n",
    "\n",
    "# Load model from HuggingFace Hub\n",
    "tokenizer = AutoTokenizer.from_pretrained('BAAI/bge-m3')\n",
    "model = AutoModel.from_pretrained('BAAI/bge-m3', device_map='auto', torch_dtype=\"auto\")\n",
    "model.eval()"
   ]
  },
  {
   "cell_type": "code",
   "execution_count": 54,
   "metadata": {},
   "outputs": [
    {
     "data": {
      "text/plain": [
       "[('▁i', '.', 0.59656423), ('▁like', '.', 0.5742051), ('▁it', '.', 0.6128005)]"
      ]
     },
     "execution_count": 54,
     "metadata": {},
     "output_type": "execute_result"
    }
   ],
   "source": [
    "sentences = [\"i like it it\", 'Life\\n\\nThere are not many sources on the life of Abner.']\n",
    "\n",
    "\n",
    "cobert.query_score_per_token(\"i like it\", 'Life\\n\\nThere are not many sources on the life of Abner.', model, tokenizer)\n"
   ]
  },
  {
   "cell_type": "code",
   "execution_count": 29,
   "metadata": {},
   "outputs": [
    {
     "data": {
      "text/plain": [
       "(15, 1024)"
      ]
     },
     "execution_count": 29,
     "metadata": {},
     "output_type": "execute_result"
    }
   ],
   "source": [
    "emb[1].shape"
   ]
  },
  {
   "cell_type": "code",
   "execution_count": 27,
   "metadata": {},
   "outputs": [
    {
     "name": "stdout",
     "output_type": "stream",
     "text": [
      "15\n",
      "[0.31994012 0.59656423 0.5742051  0.6128005  0.34660533 0.61084265\n",
      " 0.61084265 0.61084265 0.61084265 0.61084265 0.61084265 0.61084265\n",
      " 0.61084265 0.61084265 0.61084265]\n"
     ]
    },
    {
     "data": {
      "text/plain": [
       "0.5705694834391276"
      ]
     },
     "execution_count": 27,
     "metadata": {},
     "output_type": "execute_result"
    }
   ],
   "source": [
    "cobert.colbert_score(emb[0], emb[1])"
   ]
  },
  {
   "cell_type": "code",
   "execution_count": 19,
   "metadata": {},
   "outputs": [
    {
     "data": {
      "text/plain": [
       "tensor(0.5706)"
      ]
     },
     "execution_count": 19,
     "metadata": {},
     "output_type": "execute_result"
    }
   ],
   "source": [
    "cobert.colbert_score_torch(emb[0], emb[1])"
   ]
  },
  {
   "cell_type": "code",
   "execution_count": 12,
   "metadata": {},
   "outputs": [
    {
     "data": {
      "text/plain": [
       "['<s>',\n",
       " '▁Life',\n",
       " '▁There',\n",
       " '▁are',\n",
       " '▁not',\n",
       " '▁many',\n",
       " '▁sources',\n",
       " '▁on',\n",
       " '▁the',\n",
       " '▁life',\n",
       " '▁of',\n",
       " '▁Ab',\n",
       " 'ner',\n",
       " '.',\n",
       " '</s>']"
      ]
     },
     "execution_count": 12,
     "metadata": {},
     "output_type": "execute_result"
    }
   ],
   "source": [
    "sentences = ['Life\\n\\nThere are not many sources on the life of Abner.']\n",
    "input_ids = tokenizer(sentences, padding=True, truncation=True, return_tensors='pt').input_ids\n",
    "tokenizer.convert_ids_to_tokens(input_ids[0])"
   ]
  },
  {
   "cell_type": "code",
   "execution_count": null,
   "metadata": {},
   "outputs": [],
   "source": []
  }
 ],
 "metadata": {
  "kernelspec": {
   "display_name": "sep",
   "language": "python",
   "name": "python3"
  },
  "language_info": {
   "codemirror_mode": {
    "name": "ipython",
    "version": 3
   },
   "file_extension": ".py",
   "mimetype": "text/x-python",
   "name": "python",
   "nbconvert_exporter": "python",
   "pygments_lexer": "ipython3",
   "version": "3.9.19"
  }
 },
 "nbformat": 4,
 "nbformat_minor": 2
}
