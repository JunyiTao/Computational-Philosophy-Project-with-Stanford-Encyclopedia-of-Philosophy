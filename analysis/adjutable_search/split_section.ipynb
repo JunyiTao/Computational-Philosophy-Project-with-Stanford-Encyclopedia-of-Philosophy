{
 "cells": [
  {
   "cell_type": "code",
   "execution_count": 2,
   "metadata": {},
   "outputs": [
    {
     "name": "stderr",
     "output_type": "stream",
     "text": [
      "[nltk_data] Downloading package punkt to /home/chenyn66/nltk_data...\n",
      "[nltk_data]   Package punkt is already up-to-date!\n",
      "[nltk_data] Downloading package stopwords to\n",
      "[nltk_data]     /home/chenyn66/nltk_data...\n",
      "[nltk_data]   Package stopwords is already up-to-date!\n",
      "[nltk_data] Downloading package wordnet to /home/chenyn66/nltk_data...\n",
      "[nltk_data]   Package wordnet is already up-to-date!\n",
      "/tmp/ipykernel_672398/3767412936.py:6: TqdmExperimentalWarning: Using `tqdm.autonotebook.tqdm` in notebook mode. Use `tqdm.tqdm` instead to force console mode (e.g. in jupyter console)\n",
      "  from tqdm.autonotebook import tqdm\n"
     ]
    }
   ],
   "source": [
    "import json\n",
    "import os\n",
    "import sys\n",
    "sys.path.append('./src')\n",
    "import preprocessing\n",
    "from tqdm.autonotebook import tqdm\n",
    "import re\n",
    "\n",
    "%load_ext autoreload\n",
    "%autoreload 2"
   ]
  },
  {
   "cell_type": "code",
   "execution_count": 110,
   "metadata": {},
   "outputs": [
    {
     "name": "stderr",
     "output_type": "stream",
     "text": [
      "100%|██████████| 1796/1796 [04:16<00:00,  7.00it/s]\n"
     ]
    }
   ],
   "source": [
    "# for document_name in tqdm(os.listdir('entry_data/')):\n",
    "#     document = json.load(open('entry_data/' + document_name))\n",
    "#     sections = preprocessing.split_by_section(document['main_text'], document['toc'], document['title'])\n",
    "#     document_name = document_name.split('.')[0]\n",
    "#     for i, (k, v)in enumerate(sections.items()):\n",
    "#         v['tokenized_text'] = preprocessing.preprocess_text(v['main_text'])\n",
    "\n",
    "#         with open(f'entry_data_token_by_section/{document_name}_{i}.json', 'w') as f:\n",
    "#             json.dump(v, f, indent=4)\n",
    "    "
   ]
  },
  {
   "cell_type": "markdown",
   "metadata": {},
   "source": [
    "### Add Preamble"
   ]
  },
  {
   "cell_type": "code",
   "execution_count": 4,
   "metadata": {},
   "outputs": [
    {
     "data": {
      "text/plain": [
       "'18thGerman-preKant.json'"
      ]
     },
     "execution_count": 4,
     "metadata": {},
     "output_type": "execute_result"
    }
   ],
   "source": [
    "os.listdir('entry_data/')[0]"
   ]
  },
  {
   "cell_type": "code",
   "execution_count": 7,
   "metadata": {},
   "outputs": [
    {
     "data": {
      "application/vnd.jupyter.widget-view+json": {
       "model_id": "144b63e0bb044615b1ff091a8182a638",
       "version_major": 2,
       "version_minor": 0
      },
      "text/plain": [
       "  0%|          | 0/1796 [00:00<?, ?it/s]"
      ]
     },
     "metadata": {},
     "output_type": "display_data"
    }
   ],
   "source": [
    "# for document_name in tqdm(os.listdir('entry_data/')):\n",
    "#     document = json.load(open('entry_data/' + document_name))\n",
    "#     text = document['preamble']\n",
    "#     entry = dict()\n",
    "#     entry['main_text'] = text\n",
    "#     entry['section_title'] = 'Preamble'\n",
    "#     entry['entry_title'] = document['title']\n",
    "#     entry['hierarchy_title'] = document['title'] + preprocessing.SECTION_SPLITTER + 'Preamble'\n",
    "#     entry['tokenized_text'] = preprocessing.preprocess_text(text)\n",
    "#     document_name = document_name.split('.')[0]\n",
    "#     with open(f'entry_data_token_by_section/{document_name}_preamble.json', 'w') as f:\n",
    "#         json.dump(entry, f, indent=4)\n",
    "\n"
   ]
  },
  {
   "cell_type": "code",
   "execution_count": null,
   "metadata": {},
   "outputs": [],
   "source": []
  }
 ],
 "metadata": {
  "kernelspec": {
   "display_name": "sep",
   "language": "python",
   "name": "python3"
  },
  "language_info": {
   "codemirror_mode": {
    "name": "ipython",
    "version": 3
   },
   "file_extension": ".py",
   "mimetype": "text/x-python",
   "name": "python",
   "nbconvert_exporter": "python",
   "pygments_lexer": "ipython3",
   "version": "3.9.19"
  }
 },
 "nbformat": 4,
 "nbformat_minor": 2
}
